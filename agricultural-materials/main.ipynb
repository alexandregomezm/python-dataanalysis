{
 "cells": [
  {
   "cell_type": "code",
   "execution_count": 23,
   "metadata": {},
   "outputs": [],
   "source": [
    "import pandas as pd\n",
    "import numpy as np"
   ]
  },
  {
   "cell_type": "code",
   "execution_count": 24,
   "metadata": {},
   "outputs": [],
   "source": [
    "df = pd.read_csv('agricultural_raw_material.csv')"
   ]
  },
  {
   "cell_type": "code",
   "execution_count": 25,
   "metadata": {},
   "outputs": [
    {
     "name": "stdout",
     "output_type": "stream",
     "text": [
      "<class 'pandas.core.frame.DataFrame'>\n",
      "RangeIndex: 361 entries, 0 to 360\n",
      "Data columns (total 25 columns):\n",
      " #   Column                        Non-Null Count  Dtype  \n",
      "---  ------                        --------------  -----  \n",
      " 0   Month                         361 non-null    object \n",
      " 1   Coarse wool Price             327 non-null    object \n",
      " 2   Coarse wool price % Change    327 non-null    object \n",
      " 3   Copra Price                   339 non-null    object \n",
      " 4   Copra price % Change          339 non-null    object \n",
      " 5   Cotton Price                  361 non-null    float64\n",
      " 6   Cotton price % Change         361 non-null    object \n",
      " 7   Fine wool Price               327 non-null    object \n",
      " 8   Fine wool price % Change      327 non-null    object \n",
      " 9   Hard log Price                361 non-null    float64\n",
      " 10  Hard log price % Change       361 non-null    object \n",
      " 11  Hard sawnwood Price           327 non-null    float64\n",
      " 12  Hard sawnwood price % Change  327 non-null    object \n",
      " 13  Hide Price                    327 non-null    float64\n",
      " 14  Hide price % change           327 non-null    object \n",
      " 15  Plywood Price                 361 non-null    float64\n",
      " 16  Plywood price % Change        361 non-null    object \n",
      " 17  Rubber Price                  361 non-null    float64\n",
      " 18  Rubber price % Change         361 non-null    object \n",
      " 19  Softlog Price                 327 non-null    float64\n",
      " 20  Softlog price % Change        327 non-null    object \n",
      " 21  Soft sawnwood Price           327 non-null    float64\n",
      " 22  Soft sawnwood price % Change  327 non-null    object \n",
      " 23  Wood pulp Price               360 non-null    float64\n",
      " 24  Wood pulp price % Change      360 non-null    object \n",
      "dtypes: float64(9), object(16)\n",
      "memory usage: 70.6+ KB\n"
     ]
    }
   ],
   "source": [
    "df.info()"
   ]
  }
 ],
 "metadata": {
  "kernelspec": {
   "display_name": "Python 3",
   "language": "python",
   "name": "python3"
  },
  "language_info": {
   "codemirror_mode": {
    "name": "ipython",
    "version": 3
   },
   "file_extension": ".py",
   "mimetype": "text/x-python",
   "name": "python",
   "nbconvert_exporter": "python",
   "pygments_lexer": "ipython3",
   "version": "3.12.4"
  }
 },
 "nbformat": 4,
 "nbformat_minor": 2
}
